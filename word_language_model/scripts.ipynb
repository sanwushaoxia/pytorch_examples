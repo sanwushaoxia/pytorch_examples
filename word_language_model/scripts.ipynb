{
 "cells": [
  {
   "cell_type": "code",
   "execution_count": 1,
   "metadata": {},
   "outputs": [],
   "source": [
    "import math\n",
    "import torch\n",
    "import torch.nn as nn\n",
    "import torch.nn.functional as F"
   ]
  },
  {
   "cell_type": "code",
   "execution_count": 2,
   "metadata": {},
   "outputs": [
    {
     "name": "stdout",
     "output_type": "stream",
     "text": [
      "torch.Size([5000, 100])\n",
      "tensor([[0., 0., 0.,  ..., 0., 0., 0.],\n",
      "        [0., 0., 0.,  ..., 0., 0., 0.],\n",
      "        [0., 0., 0.,  ..., 0., 0., 0.],\n",
      "        ...,\n",
      "        [0., 0., 0.,  ..., 0., 0., 0.],\n",
      "        [0., 0., 0.,  ..., 0., 0., 0.],\n",
      "        [0., 0., 0.,  ..., 0., 0., 0.]])\n"
     ]
    }
   ],
   "source": [
    "max_len = 5000\n",
    "d_model = 100\n",
    "pe = torch.zeros(max_len, d_model)\n",
    "print(pe.size())\n",
    "print(pe)"
   ]
  },
  {
   "cell_type": "code",
   "execution_count": 3,
   "metadata": {},
   "outputs": [
    {
     "name": "stdout",
     "output_type": "stream",
     "text": [
      "torch.Size([5000])\n",
      "tensor([0.0000e+00, 1.0000e+00, 2.0000e+00,  ..., 4.9970e+03, 4.9980e+03,\n",
      "        4.9990e+03])\n",
      "torch.Size([5000, 1])\n",
      "tensor([[0.0000e+00],\n",
      "        [1.0000e+00],\n",
      "        [2.0000e+00],\n",
      "        ...,\n",
      "        [4.9970e+03],\n",
      "        [4.9980e+03],\n",
      "        [4.9990e+03]])\n"
     ]
    }
   ],
   "source": [
    "position = torch.arange(0, max_len, dtype=torch.float)\n",
    "print(position.size())\n",
    "print(position)\n",
    "position = position.unsqueeze(1)\n",
    "print(position.size())\n",
    "print(position)"
   ]
  },
  {
   "cell_type": "code",
   "execution_count": 4,
   "metadata": {},
   "outputs": [
    {
     "name": "stdout",
     "output_type": "stream",
     "text": [
      "torch.Size([50])\n",
      "tensor([0.0000, 0.0200, 0.0400, 0.0600, 0.0800, 0.1000, 0.1200, 0.1400, 0.1600,\n",
      "        0.1800, 0.2000, 0.2200, 0.2400, 0.2600, 0.2800, 0.3000, 0.3200, 0.3400,\n",
      "        0.3600, 0.3800, 0.4000, 0.4200, 0.4400, 0.4600, 0.4800, 0.5000, 0.5200,\n",
      "        0.5400, 0.5600, 0.5800, 0.6000, 0.6200, 0.6400, 0.6600, 0.6800, 0.7000,\n",
      "        0.7200, 0.7400, 0.7600, 0.7800, 0.8000, 0.8200, 0.8400, 0.8600, 0.8800,\n",
      "        0.9000, 0.9200, 0.9400, 0.9600, 0.9800])\n",
      "torch.Size([50])\n",
      "tensor([-0.0000, -0.1842, -0.3684, -0.5526, -0.7368, -0.9210, -1.1052, -1.2894,\n",
      "        -1.4737, -1.6579, -1.8421, -2.0263, -2.2105, -2.3947, -2.5789, -2.7631,\n",
      "        -2.9473, -3.1315, -3.3157, -3.4999, -3.6841, -3.8683, -4.0525, -4.2368,\n",
      "        -4.4210, -4.6052, -4.7894, -4.9736, -5.1578, -5.3420, -5.5262, -5.7104,\n",
      "        -5.8946, -6.0788, -6.2630, -6.4472, -6.6314, -6.8157, -6.9999, -7.1841,\n",
      "        -7.3683, -7.5525, -7.7367, -7.9209, -8.1051, -8.2893, -8.4735, -8.6577,\n",
      "        -8.8419, -9.0261])\n",
      "torch.Size([50])\n",
      "tensor([1.0000e+00, 8.3176e-01, 6.9183e-01, 5.7544e-01, 4.7863e-01, 3.9811e-01,\n",
      "        3.3113e-01, 2.7542e-01, 2.2909e-01, 1.9055e-01, 1.5849e-01, 1.3183e-01,\n",
      "        1.0965e-01, 9.1201e-02, 7.5858e-02, 6.3096e-02, 5.2481e-02, 4.3652e-02,\n",
      "        3.6308e-02, 3.0200e-02, 2.5119e-02, 2.0893e-02, 1.7378e-02, 1.4454e-02,\n",
      "        1.2023e-02, 1.0000e-02, 8.3176e-03, 6.9183e-03, 5.7544e-03, 4.7863e-03,\n",
      "        3.9811e-03, 3.3113e-03, 2.7542e-03, 2.2909e-03, 1.9055e-03, 1.5849e-03,\n",
      "        1.3183e-03, 1.0965e-03, 9.1201e-04, 7.5858e-04, 6.3096e-04, 5.2481e-04,\n",
      "        4.3652e-04, 3.6308e-04, 3.0200e-04, 2.5119e-04, 2.0893e-04, 1.7378e-04,\n",
      "        1.4454e-04, 1.2023e-04])\n"
     ]
    }
   ],
   "source": [
    "div_term = torch.arange(0, d_model, 2).float() / d_model\n",
    "print(div_term.size())\n",
    "print(div_term)\n",
    "div_term = div_term * (-math.log(10000.0))\n",
    "print(div_term.size())\n",
    "print(div_term)\n",
    "div_term = torch.exp(div_term)\n",
    "print(div_term.size())\n",
    "print(div_term)"
   ]
  },
  {
   "cell_type": "code",
   "execution_count": 5,
   "metadata": {},
   "outputs": [
    {
     "name": "stdout",
     "output_type": "stream",
     "text": [
      "torch.Size([5000, 1])\n",
      "torch.Size([50])\n",
      "torch.Size([5000, 50])\n"
     ]
    }
   ],
   "source": [
    "print(position.size())\n",
    "print(div_term.size())\n",
    "print((position * div_term).size())"
   ]
  },
  {
   "cell_type": "code",
   "execution_count": 6,
   "metadata": {},
   "outputs": [
    {
     "name": "stdout",
     "output_type": "stream",
     "text": [
      "torch.Size([5000, 1, 100])\n"
     ]
    }
   ],
   "source": [
    "pe = pe.unsqueeze(0).transpose(0, 1)\n",
    "print(pe.size())"
   ]
  },
  {
   "cell_type": "code",
   "execution_count": 7,
   "metadata": {},
   "outputs": [
    {
     "name": "stdout",
     "output_type": "stream",
     "text": [
      "torch.Size([5000, 128, 100])\n",
      "torch.Size([5000, 128, 100])\n"
     ]
    }
   ],
   "source": [
    "x = torch.zeros(max_len, 128, d_model)\n",
    "print(x.size())\n",
    "x = x + pe[:x.size(0), :]\n",
    "print(x.size())"
   ]
  },
  {
   "cell_type": "code",
   "execution_count": 8,
   "metadata": {},
   "outputs": [
    {
     "name": "stdout",
     "output_type": "stream",
     "text": [
      "tensor([[1., 1., 1., 1., 1., 1., 1., 1., 1., 1.],\n",
      "        [1., 1., 1., 1., 1., 1., 1., 1., 1., 1.],\n",
      "        [1., 1., 1., 1., 1., 1., 1., 1., 1., 1.],\n",
      "        [1., 1., 1., 1., 1., 1., 1., 1., 1., 1.],\n",
      "        [1., 1., 1., 1., 1., 1., 1., 1., 1., 1.],\n",
      "        [1., 1., 1., 1., 1., 1., 1., 1., 1., 1.],\n",
      "        [1., 1., 1., 1., 1., 1., 1., 1., 1., 1.],\n",
      "        [1., 1., 1., 1., 1., 1., 1., 1., 1., 1.],\n",
      "        [1., 1., 1., 1., 1., 1., 1., 1., 1., 1.],\n",
      "        [1., 1., 1., 1., 1., 1., 1., 1., 1., 1.]])\n",
      "tensor([[1., 0., 0., 0., 0., 0., 0., 0., 0., 0.],\n",
      "        [1., 1., 0., 0., 0., 0., 0., 0., 0., 0.],\n",
      "        [1., 1., 1., 0., 0., 0., 0., 0., 0., 0.],\n",
      "        [1., 1., 1., 1., 0., 0., 0., 0., 0., 0.],\n",
      "        [1., 1., 1., 1., 1., 0., 0., 0., 0., 0.],\n",
      "        [1., 1., 1., 1., 1., 1., 0., 0., 0., 0.],\n",
      "        [1., 1., 1., 1., 1., 1., 1., 0., 0., 0.],\n",
      "        [1., 1., 1., 1., 1., 1., 1., 1., 0., 0.],\n",
      "        [1., 1., 1., 1., 1., 1., 1., 1., 1., 0.],\n",
      "        [1., 1., 1., 1., 1., 1., 1., 1., 1., 1.]])\n",
      "tensor([[0., -inf, -inf, -inf, -inf, -inf, -inf, -inf, -inf, -inf],\n",
      "        [0., 0., -inf, -inf, -inf, -inf, -inf, -inf, -inf, -inf],\n",
      "        [0., 0., 0., -inf, -inf, -inf, -inf, -inf, -inf, -inf],\n",
      "        [0., 0., 0., 0., -inf, -inf, -inf, -inf, -inf, -inf],\n",
      "        [0., 0., 0., 0., 0., -inf, -inf, -inf, -inf, -inf],\n",
      "        [0., 0., 0., 0., 0., 0., -inf, -inf, -inf, -inf],\n",
      "        [0., 0., 0., 0., 0., 0., 0., -inf, -inf, -inf],\n",
      "        [0., 0., 0., 0., 0., 0., 0., 0., -inf, -inf],\n",
      "        [0., 0., 0., 0., 0., 0., 0., 0., 0., -inf],\n",
      "        [0., 0., 0., 0., 0., 0., 0., 0., 0., 0.]])\n"
     ]
    }
   ],
   "source": [
    "sz = 10\n",
    "mask = torch.ones(sz,sz)\n",
    "print(mask)\n",
    "mask = torch.tril(mask)\n",
    "print(mask)\n",
    "mask = torch.log(mask)\n",
    "print(mask)"
   ]
  },
  {
   "cell_type": "code",
   "execution_count": 5,
   "metadata": {},
   "outputs": [],
   "source": [
    "why_not_fast_path = \"abc\"\n",
    "if not why_not_fast_path:\n",
    "    print(\"One\")"
   ]
  },
  {
   "cell_type": "code",
   "execution_count": 17,
   "metadata": {},
   "outputs": [
    {
     "name": "stdout",
     "output_type": "stream",
     "text": [
      "torch.Size([3, 4, 5])\n",
      "torch.Size([1, 4, 5])\n"
     ]
    }
   ],
   "source": [
    "import torch\n",
    "t = torch.zeros(3, 4, 5)\n",
    "print(t.size())\n",
    "a, b, c = torch.chunk(t, 3, dim=0)\n",
    "print(a.size())"
   ]
  },
  {
   "cell_type": "code",
   "execution_count": 19,
   "metadata": {},
   "outputs": [
    {
     "ename": "RuntimeError",
     "evalue": "view size is not compatible with input tensor's size and stride (at least one dimension spans across two contiguous subspaces). Use .reshape(...) instead.",
     "output_type": "error",
     "traceback": [
      "\u001b[0;31m---------------------------------------------------------------------------\u001b[0m",
      "\u001b[0;31mRuntimeError\u001b[0m                              Traceback (most recent call last)",
      "Cell \u001b[0;32mIn[19], line 2\u001b[0m\n\u001b[1;32m      1\u001b[0m a \u001b[38;5;241m=\u001b[39m torch\u001b[38;5;241m.\u001b[39mrand(\u001b[38;5;241m3\u001b[39m, \u001b[38;5;241m4\u001b[39m, \u001b[38;5;241m5\u001b[39m)\n\u001b[0;32m----> 2\u001b[0m a\u001b[38;5;241m.\u001b[39mtranspose(\u001b[38;5;241m0\u001b[39m, \u001b[38;5;241m1\u001b[39m)\u001b[38;5;241m.\u001b[39mview(\u001b[38;5;241m20\u001b[39m, \u001b[38;5;241m3\u001b[39m)\n",
      "\u001b[0;31mRuntimeError\u001b[0m: view size is not compatible with input tensor's size and stride (at least one dimension spans across two contiguous subspaces). Use .reshape(...) instead."
     ]
    }
   ],
   "source": [
    "a = torch.rand(3, 4, 5)\n",
    "a.transpose(0, 1).view(20, 3)"
   ]
  },
  {
   "cell_type": "code",
   "execution_count": 20,
   "metadata": {},
   "outputs": [
    {
     "data": {
      "text/plain": [
       "tensor([[0.4536, 0.1439, 0.4902],\n",
       "        [0.7070, 0.2201, 0.4560],\n",
       "        [0.7095, 0.0484, 0.5964],\n",
       "        [0.6026, 0.6514, 0.8462],\n",
       "        [0.3512, 0.9491, 0.0237],\n",
       "        [0.9265, 0.0818, 0.7054],\n",
       "        [0.5664, 0.2713, 0.5917],\n",
       "        [0.8704, 0.1799, 0.6283],\n",
       "        [0.6517, 0.4384, 0.6334],\n",
       "        [0.3369, 0.8768, 0.5718],\n",
       "        [0.7397, 0.0415, 0.7496],\n",
       "        [0.9603, 0.3549, 0.5909],\n",
       "        [0.8220, 0.6783, 0.9836],\n",
       "        [0.2580, 0.6975, 0.6759],\n",
       "        [0.1229, 0.9863, 0.1275],\n",
       "        [0.8709, 0.3167, 0.5224],\n",
       "        [0.4570, 0.0820, 0.4466],\n",
       "        [0.1001, 0.2881, 0.1149],\n",
       "        [0.6790, 0.6664, 0.4065],\n",
       "        [0.4172, 0.3655, 0.1776]])"
      ]
     },
     "execution_count": 20,
     "metadata": {},
     "output_type": "execute_result"
    }
   ],
   "source": [
    "a.transpose(0, 1).reshape(20, 3)"
   ]
  }
 ],
 "metadata": {
  "kernelspec": {
   "display_name": "py312",
   "language": "python",
   "name": "python3"
  },
  "language_info": {
   "codemirror_mode": {
    "name": "ipython",
    "version": 3
   },
   "file_extension": ".py",
   "mimetype": "text/x-python",
   "name": "python",
   "nbconvert_exporter": "python",
   "pygments_lexer": "ipython3",
   "version": "3.12.8"
  }
 },
 "nbformat": 4,
 "nbformat_minor": 2
}
